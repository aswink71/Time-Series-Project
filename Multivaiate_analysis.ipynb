{
  "nbformat": 4,
  "nbformat_minor": 0,
  "metadata": {
    "colab": {
      "provenance": [],
      "authorship_tag": "ABX9TyMwkSir1sWfUMVUnghF6ygJ",
      "include_colab_link": true
    },
    "kernelspec": {
      "name": "python3",
      "display_name": "Python 3"
    },
    "language_info": {
      "name": "python"
    }
  },
  "cells": [
    {
      "cell_type": "markdown",
      "metadata": {
        "id": "view-in-github",
        "colab_type": "text"
      },
      "source": [
        "<a href=\"https://colab.research.google.com/github/aswink71/Time-Series-Project/blob/main/Multivaiate_analysis.ipynb\" target=\"_parent\"><img src=\"https://colab.research.google.com/assets/colab-badge.svg\" alt=\"Open In Colab\"/></a>"
      ]
    },
    {
      "cell_type": "code",
      "execution_count": null,
      "metadata": {
        "id": "YXgrhbph6Rwf"
      },
      "outputs": [],
      "source": [
        "from google.colab import drive\n",
        "drive.mount('/content/drive')"
      ]
    },
    {
      "cell_type": "code",
      "source": [
        "!pip install statsmodels"
      ],
      "metadata": {
        "id": "S15iUjnp6lbz"
      },
      "execution_count": null,
      "outputs": []
    },
    {
      "cell_type": "code",
      "source": [
        "# importation technique to compute the information.\n",
        "import numpy as nmy\n",
        "#applying the library for manupulated the data-set\n",
        "import pandas as pdns\n",
        "\n",
        "# Data Visualization\n",
        "import matplotlib.pyplot as matlp\n",
        "# here we use the sea born libraries for draw the graph\n",
        "import seaborn as sns\n",
        "# use this library for this project\n",
        "from statsmodels.tsa.stattools import adfuller, acf, pacf\n",
        "# apply the method of that\n",
        "import statsmodels.api as sm\n",
        "\n",
        "# For cross-validation, specifically with time series data,\n",
        "from sklearn.model_selection import train_test_split,TimeSeriesSplit\n",
        "\n",
        "# Metrics to evaluate how well models perform\n",
        "from sklearn.metrics import mean_squared_error,mean_absolute_error,r2_score\n",
        "\n",
        "# using the lyers in the algorithms\n",
        "from keras.models import Sequential\n",
        "# Utilize the algorithms with the lyes.\n",
        "from keras.layers import Dense,Dropout\n",
        "\n",
        "# Progress Tracking\n",
        "from tqdm import tqdm\n",
        "\n",
        "# removing the causility\n",
        "import warnings\n",
        "warnings.filterwarnings(\"ignore\")\n",
        "\n",
        "# adding this method for timing\n",
        "from datetime import datetime"
      ],
      "metadata": {
        "id": "cKkKhOiK65Km"
      },
      "execution_count": null,
      "outputs": []
    }
  ]
}